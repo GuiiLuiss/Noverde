{
 "cells": [
  {
   "cell_type": "code",
   "execution_count": 1,
   "metadata": {},
   "outputs": [],
   "source": [
    "#Baixando a base de dados para a variável x\n",
    "\n",
    "import pandas as pd\n",
    "x = pd.read_csv(\n",
    "    filepath_or_buffer='https://noverde-data-engineering-test.s3.amazonaws.com/dataeng_test.csv',\n",
    "    sep=',')"
   ]
  },
  {
   "cell_type": "code",
   "execution_count": 2,
   "metadata": {},
   "outputs": [],
   "source": [
    "#Excluindo a coluna que apresenta apenas valores nulos e passando os dados para a variável df\n",
    "\n",
    "df = x.drop('Unnamed: 4', axis=1)"
   ]
  },
  {
   "cell_type": "code",
   "execution_count": 3,
   "metadata": {},
   "outputs": [],
   "source": [
    "#Tratando a coluna 'ValorPago' - Removendo primeiros os '.'\n",
    "\n",
    "df['ValorPago'] = df['ValorPago'].apply(lambda x: x.replace('.', ''))"
   ]
  },
  {
   "cell_type": "code",
   "execution_count": 4,
   "metadata": {},
   "outputs": [],
   "source": [
    "#Tratando a coluna 'ValorPago' - Removendo as vírgulas e substituindo para pontos\n",
    "\n",
    "df['ValorPago'] = df['ValorPago'].apply(lambda x: x.replace(',', '.'))"
   ]
  },
  {
   "cell_type": "code",
   "execution_count": 5,
   "metadata": {},
   "outputs": [],
   "source": [
    "#Transformando a coluna 'ValorPago' em float\n",
    "\n",
    "df['ValorPago']=df['ValorPago'].astype('float64')"
   ]
  },
  {
   "cell_type": "code",
   "execution_count": 6,
   "metadata": {},
   "outputs": [],
   "source": [
    "#Transformando a coluna 'Comarca' - Removendo ' / SP'\n",
    "\n",
    "df['Comarca'] = df['Comarca'].apply(lambda x:x.replace(' / SP',''))"
   ]
  },
  {
   "cell_type": "code",
   "execution_count": 7,
   "metadata": {},
   "outputs": [],
   "source": [
    "#Baixando o CSV\n",
    "\n",
    "df.to_csv('C:\\Files\\protestos.csv',index=False)"
   ]
  },
  {
   "cell_type": "code",
   "execution_count": 8,
   "metadata": {},
   "outputs": [],
   "source": [
    "#Importando o adaptador do PostgreSQL para python\n",
    "import psycopg2\n",
    "\n",
    "#Criando a conexão com o PostgreSQL\n",
    "conex = psycopg2.connect(host='localhost', database='Noverde',\n",
    "user='postgres', password='dnr@2016')\n",
    "\n",
    "#Abrindo o cursor para criação da tabela \"payments\"\n",
    "cur = conex.cursor()"
   ]
  },
  {
   "cell_type": "code",
   "execution_count": 9,
   "metadata": {},
   "outputs": [],
   "source": [
    "#Criando a tabela \"payments\"\n",
    "\n",
    "cur.execute(\"CREATE TABLE payments (id serial PRIMARY KEY, payment_date date, amount decimal(10,2),protocol varchar(7),city varchar(30), state varchar(2) DEFAULT 'sp');\")"
   ]
  },
  {
   "cell_type": "code",
   "execution_count": 10,
   "metadata": {},
   "outputs": [],
   "source": [
    "# Inserindo dados na tabela \"payments\"\n",
    "\n",
    "cur.execute(\"COPY payments (protocol,city,payment_date,amount) FROM 'C:\\Files\\protestos.csv' DELIMITER ',' CSV HEADER;\")"
   ]
  },
  {
   "cell_type": "code",
   "execution_count": 11,
   "metadata": {},
   "outputs": [
    {
     "data": {
      "text/plain": [
       "('R$ 88.792,04',)"
      ]
     },
     "execution_count": 11,
     "metadata": {},
     "output_type": "execute_result"
    }
   ],
   "source": [
    "# Query 1 \n",
    "#Qual foi o valor recebido em todo o período?\n",
    "\n",
    "cur.execute(\"SELECT cast(sum(amount) as money) as ValorRecebido FROM payments;\")\n",
    "cur.fetchone()"
   ]
  },
  {
   "cell_type": "code",
   "execution_count": 12,
   "metadata": {},
   "outputs": [
    {
     "data": {
      "text/plain": [
       "[('R$ 3.676,89', 'R$ 123,13')]"
      ]
     },
     "execution_count": 12,
     "metadata": {},
     "output_type": "execute_result"
    }
   ],
   "source": [
    "#Query 2\n",
    "#Qual o maior e o menor valor recebido em 2019?\n",
    "\n",
    "cur.execute(\"SELECT cast(max(amount) as money) as MaiorValor, cast(min(amount) as money) as MenorValor FROM payments WHERE payment_date BETWEEN '20190101' AND '20191231';\")\n",
    "cur.fetchall()"
   ]
  },
  {
   "cell_type": "code",
   "execution_count": 13,
   "metadata": {},
   "outputs": [
    {
     "data": {
      "text/plain": [
       "[(2019.0, 5.0, 'R$ 19.969,83')]"
      ]
     },
     "execution_count": 13,
     "metadata": {},
     "output_type": "execute_result"
    }
   ],
   "source": [
    "#Query 3\n",
    "#Qual o mês que teve o maior recebimento?\n",
    "\n",
    "cur.execute(\"SELECT EXTRACT('YEAR' FROM payment_date) AS Ano, EXTRACT('MONTH' FROM payment_date) AS Mes, CAST(sum(amount)AS MONEY) AS Valortotal FROM payments GROUP BY EXTRACT('MONTH' FROM payment_date), EXTRACT('YEAR' FROM payment_date) ORDER BY Valortotal desc limit 1;\")\n",
    "cur.fetchall()"
   ]
  },
  {
   "cell_type": "code",
   "execution_count": 14,
   "metadata": {},
   "outputs": [
    {
     "data": {
      "text/plain": [
       "[('SAO PAULO', 'R$ 17.366,13')]"
      ]
     },
     "execution_count": 14,
     "metadata": {},
     "output_type": "execute_result"
    }
   ],
   "source": [
    "#Query 4\n",
    "#Qual a comarca que teve mais recebimento?\n",
    "\n",
    "cur.execute(\"SELECT city AS Comarca, CAST(sum(amount)AS MONEY) AS Valor FROM payments GROUP BY city ORDER BY Valor desc limit 1;\")\n",
    "cur.fetchall()"
   ]
  },
  {
   "cell_type": "code",
   "execution_count": 15,
   "metadata": {},
   "outputs": [
    {
     "data": {
      "text/plain": [
       "[(1.0, 2019.0, 'R$ 5.671,26', Decimal('7.62')),\n",
       " (2.0, 2019.0, 'R$ 5.868,78', Decimal('7.89')),\n",
       " (3.0, 2019.0, 'R$ 17.942,57', Decimal('24.12')),\n",
       " (4.0, 2019.0, 'R$ 8.179,58', Decimal('11.00')),\n",
       " (5.0, 2019.0, 'R$ 19.969,83', Decimal('26.85')),\n",
       " (6.0, 2019.0, 'R$ 16.752,40', Decimal('22.52'))]"
      ]
     },
     "execution_count": 15,
     "metadata": {},
     "output_type": "execute_result"
    }
   ],
   "source": [
    "#Query 5\n",
    "# Qual a porcentagem que cada mês de 2019 teve no montante recebido de 2019? \n",
    "\n",
    "cur.execute(\"SELECT EXTRACT('MONTH' from payment_date) AS month, EXTRACT('YEAR' from payment_date) AS year, cast(sum(amount)as money) as amount, cast(sum(amount)/(SELECT sum(amount) from payments WHERE EXTRACT('YEAR' from payment_date) = 2019)*100 as decimal(10,2)) as Ratio FROM payments WHERE EXTRACT('YEAR' from payment_date) = 2019 GROUP BY EXTRACT('MONTH' FROM payment_date), EXTRACT('YEAR' from payment_date) ORDER BY month asc;\")\n",
    "cur.fetchall()"
   ]
  },
  {
   "cell_type": "code",
   "execution_count": 17,
   "metadata": {},
   "outputs": [],
   "source": [
    "#Fazendo as alterações no banco\n",
    "\n",
    "conex.commit ()"
   ]
  },
  {
   "cell_type": "code",
   "execution_count": 18,
   "metadata": {},
   "outputs": [],
   "source": [
    "#Fechando cursor e conexão\n",
    "\n",
    "cur.close ()\n",
    "conex.close ()"
   ]
  },
  {
   "cell_type": "code",
   "execution_count": null,
   "metadata": {},
   "outputs": [],
   "source": [
    "#Fim"
   ]
  }
 ],
 "metadata": {
  "kernelspec": {
   "display_name": "Python 3",
   "language": "python",
   "name": "python3"
  },
  "language_info": {
   "codemirror_mode": {
    "name": "ipython",
    "version": 3
   },
   "file_extension": ".py",
   "mimetype": "text/x-python",
   "name": "python",
   "nbconvert_exporter": "python",
   "pygments_lexer": "ipython3",
   "version": "3.6.4"
  }
 },
 "nbformat": 4,
 "nbformat_minor": 2
}
